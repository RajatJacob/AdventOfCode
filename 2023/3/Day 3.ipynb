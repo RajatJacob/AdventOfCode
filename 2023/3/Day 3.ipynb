{
 "cells": [
  {
   "cell_type": "code",
   "execution_count": 1,
   "metadata": {},
   "outputs": [],
   "source": [
    "SAMPLE_INPUT = \"\"\"\n",
    "467..114..\n",
    "...*......\n",
    "..35..633.\n",
    "......#...\n",
    "617*......\n",
    ".....+.58.\n",
    "..592.....\n",
    "......755.\n",
    "...$.*....\n",
    ".664.598..\n",
    "\"\"\""
   ]
  },
  {
   "cell_type": "code",
   "execution_count": 2,
   "metadata": {},
   "outputs": [],
   "source": [
    "import numpy as np"
   ]
  },
  {
   "cell_type": "code",
   "execution_count": 3,
   "metadata": {},
   "outputs": [],
   "source": [
    "def read(text: str):\n",
    "\treturn np.matrix([np.array(list(str(line).strip())) for line in str(text).strip().splitlines()])"
   ]
  },
  {
   "cell_type": "code",
   "execution_count": 4,
   "metadata": {},
   "outputs": [],
   "source": [
    "def get_adjacent_indices(r, c):\n",
    "\tADJ = [-1, 0, 1]\n",
    "\tindices = {(i, j) for i in ADJ for j in ADJ} - {(0, 0)}\n",
    "\treturn {(r+i, c+j) for i, j in indices}"
   ]
  },
  {
   "cell_type": "code",
   "execution_count": 5,
   "metadata": {},
   "outputs": [],
   "source": [
    "def get_adjacents(mat: np.matrix, r, c):\n",
    "\tfor i, j in get_adjacent_indices(r, c):\n",
    "\t\ttry:\n",
    "\t\t\tyield mat[i, j]\n",
    "\t\texcept IndexError:\n",
    "\t\t\tpass"
   ]
  },
  {
   "cell_type": "code",
   "execution_count": 6,
   "metadata": {},
   "outputs": [
    {
     "data": {
      "text/plain": [
       "matrix([['4', '6', '7', '.', '.', '1', '1', '4', '.', '.'],\n",
       "        ['.', '.', '.', '*', '.', '.', '.', '.', '.', '.'],\n",
       "        ['.', '.', '3', '5', '.', '.', '6', '3', '3', '.'],\n",
       "        ['.', '.', '.', '.', '.', '.', '#', '.', '.', '.'],\n",
       "        ['6', '1', '7', '*', '.', '.', '.', '.', '.', '.'],\n",
       "        ['.', '.', '.', '.', '.', '+', '.', '5', '8', '.'],\n",
       "        ['.', '.', '5', '9', '2', '.', '.', '.', '.', '.'],\n",
       "        ['.', '.', '.', '.', '.', '.', '7', '5', '5', '.'],\n",
       "        ['.', '.', '.', '$', '.', '*', '.', '.', '.', '.'],\n",
       "        ['.', '6', '6', '4', '.', '5', '9', '8', '.', '.']], dtype='<U1')"
      ]
     },
     "execution_count": 6,
     "metadata": {},
     "output_type": "execute_result"
    }
   ],
   "source": [
    "sample = read(SAMPLE_INPUT)\n",
    "sample"
   ]
  },
  {
   "cell_type": "code",
   "execution_count": 7,
   "metadata": {},
   "outputs": [
    {
     "data": {
      "text/plain": [
       "'.'"
      ]
     },
     "execution_count": 7,
     "metadata": {},
     "output_type": "execute_result"
    }
   ],
   "source": [
    "sample[1, 1]"
   ]
  },
  {
   "cell_type": "code",
   "execution_count": 8,
   "metadata": {},
   "outputs": [
    {
     "data": {
      "text/plain": [
       "['.', '.', '.', '.', '5', '.', '.', '*']"
      ]
     },
     "execution_count": 8,
     "metadata": {},
     "output_type": "execute_result"
    }
   ],
   "source": [
    "list(get_adjacents(sample, 2, 2))"
   ]
  },
  {
   "cell_type": "code",
   "execution_count": 9,
   "metadata": {},
   "outputs": [],
   "source": [
    "def is_symbol_adjacent(mat: np.matrix, r, c):\n",
    "\tadj = set(get_adjacents(mat, r, c)) - {'.'}\n",
    "\treturn bool([char for char in adj if not str(char).isdigit()])"
   ]
  },
  {
   "cell_type": "code",
   "execution_count": 10,
   "metadata": {},
   "outputs": [
    {
     "data": {
      "text/plain": [
       "False"
      ]
     },
     "execution_count": 10,
     "metadata": {},
     "output_type": "execute_result"
    }
   ],
   "source": [
    "is_symbol_adjacent(sample, 0, 0)"
   ]
  },
  {
   "cell_type": "code",
   "execution_count": 11,
   "metadata": {},
   "outputs": [],
   "source": [
    "def get_part_numbers(mat: np.matrix):\n",
    "\tr, c = mat.shape\n",
    "\tfor i in range(r):\n",
    "\t\tj = 0\n",
    "\t\twhile j < c:\n",
    "\t\t\tnum = \"\"\n",
    "\t\t\tadj = False\n",
    "\t\t\twhile j < c and str(mat[i, j]).isdigit():\n",
    "\t\t\t\tnum += mat[i, j]\n",
    "\t\t\t\tadj = adj or is_symbol_adjacent(mat, i, j)\n",
    "\t\t\t\tj += 1\n",
    "\t\t\tif adj:\n",
    "\t\t\t\tyield int(num)\n",
    "\t\t\tj += 1"
   ]
  },
  {
   "cell_type": "code",
   "execution_count": 12,
   "metadata": {},
   "outputs": [
    {
     "data": {
      "text/plain": [
       "4361"
      ]
     },
     "execution_count": 12,
     "metadata": {},
     "output_type": "execute_result"
    }
   ],
   "source": [
    "sum(get_part_numbers(sample))"
   ]
  },
  {
   "cell_type": "code",
   "execution_count": 15,
   "metadata": {},
   "outputs": [],
   "source": [
    "input_text = open('input.txt').read()"
   ]
  },
  {
   "cell_type": "code",
   "execution_count": 16,
   "metadata": {},
   "outputs": [
    {
     "data": {
      "text/plain": [
       "536202"
      ]
     },
     "execution_count": 16,
     "metadata": {},
     "output_type": "execute_result"
    }
   ],
   "source": [
    "sum(get_part_numbers(read(input_text)))"
   ]
  },
  {
   "cell_type": "code",
   "execution_count": 17,
   "metadata": {},
   "outputs": [],
   "source": [
    "def get_gear_indices(mat: np.matrix):\n",
    "\tr, c = mat.shape\n",
    "\tfor i in range(r):\n",
    "\t\tfor j in range(c):\n",
    "\t\t\tif mat[i, j] == '*':\n",
    "\t\t\t\tyield (i, j)"
   ]
  },
  {
   "cell_type": "code",
   "execution_count": 18,
   "metadata": {},
   "outputs": [
    {
     "data": {
      "text/plain": [
       "[(1, 3), (4, 3), (8, 5)]"
      ]
     },
     "execution_count": 18,
     "metadata": {},
     "output_type": "execute_result"
    }
   ],
   "source": [
    "list(get_gear_indices(sample))"
   ]
  },
  {
   "cell_type": "code",
   "execution_count": 19,
   "metadata": {},
   "outputs": [],
   "source": [
    "def get_adjacent_numbers(mat: np.matrix, r, c):\n",
    "\tsr, sc = mat.shape\n",
    "\tfor i, j in get_adjacent_indices(r, c):\n",
    "\t\tif str(mat[i, j]).isdigit():\n",
    "\t\t\tnum = str(mat[i, j])\n",
    "\t\t\td = 1\n",
    "\t\t\twhile j+d < sc and str(mat[i, j+d]).isdigit():\n",
    "\t\t\t\tnum += str(mat[i, j+d])\n",
    "\t\t\t\td += 1\n",
    "\t\t\td = -1\n",
    "\t\t\twhile j+d >= 0 and str(mat[i, j+d]).isdigit():\n",
    "\t\t\t\tnum = str(mat[i, j+d]) + num\n",
    "\t\t\t\td -= 1\n",
    "\t\t\tyield int(num)"
   ]
  },
  {
   "cell_type": "code",
   "execution_count": 20,
   "metadata": {},
   "outputs": [],
   "source": [
    "def get_gear_ratio(mat: np.matrix):\n",
    "\tratio = 0\n",
    "\n",
    "\tfor i, j in get_gear_indices(mat):\n",
    "\t\tparts = set(get_adjacent_numbers(mat, i, j)) \n",
    "\t\tif len(parts) == 2:\n",
    "\t\t\ta, b = parts\n",
    "\t\t\tratio += (a*b)\n",
    "\n",
    "\treturn ratio"
   ]
  },
  {
   "cell_type": "code",
   "execution_count": 21,
   "metadata": {},
   "outputs": [
    {
     "data": {
      "text/plain": [
       "364"
      ]
     },
     "execution_count": 21,
     "metadata": {},
     "output_type": "execute_result"
    }
   ],
   "source": [
    "len(list(get_gear_indices(read(input_text))))"
   ]
  },
  {
   "cell_type": "code",
   "execution_count": 22,
   "metadata": {},
   "outputs": [
    {
     "data": {
      "text/plain": [
       "467835"
      ]
     },
     "execution_count": 22,
     "metadata": {},
     "output_type": "execute_result"
    }
   ],
   "source": [
    "get_gear_ratio(sample)"
   ]
  },
  {
   "cell_type": "code",
   "execution_count": 23,
   "metadata": {},
   "outputs": [
    {
     "data": {
      "text/plain": [
       "78272573"
      ]
     },
     "execution_count": 23,
     "metadata": {},
     "output_type": "execute_result"
    }
   ],
   "source": [
    "get_gear_ratio(read(input_text))"
   ]
  }
 ],
 "metadata": {
  "kernelspec": {
   "display_name": "x",
   "language": "python",
   "name": "python3"
  },
  "language_info": {
   "codemirror_mode": {
    "name": "ipython",
    "version": 3
   },
   "file_extension": ".py",
   "mimetype": "text/x-python",
   "name": "python",
   "nbconvert_exporter": "python",
   "pygments_lexer": "ipython3",
   "version": "3.11.4"
  }
 },
 "nbformat": 4,
 "nbformat_minor": 2
}
