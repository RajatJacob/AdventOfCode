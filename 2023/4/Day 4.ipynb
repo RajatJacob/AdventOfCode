{
 "cells": [
  {
   "cell_type": "code",
   "execution_count": 1,
   "metadata": {},
   "outputs": [],
   "source": [
    "SAMPLE_INPUT = \"\"\"\n",
    "Card 1: 41 48 83 86 17 | 83 86  6 31 17  9 48 53\n",
    "Card 2: 13 32 20 16 61 | 61 30 68 82 17 32 24 19\n",
    "Card 3:  1 21 53 59 44 | 69 82 63 72 16 21 14  1\n",
    "Card 4: 41 92 73 84 69 | 59 84 76 51 58  5 54 83\n",
    "Card 5: 87 83 26 28 32 | 88 30 70 12 93 22 82 36\n",
    "Card 6: 31 18 13 56 72 | 74 77 10 23 35 67 36 11\n",
    "\"\"\""
   ]
  },
  {
   "cell_type": "code",
   "execution_count": 2,
   "metadata": {},
   "outputs": [],
   "source": [
    "from typing import Set, List, Dict\n",
    "from pydantic import BaseModel"
   ]
  },
  {
   "cell_type": "code",
   "execution_count": 3,
   "metadata": {},
   "outputs": [],
   "source": [
    "class Card(BaseModel):\n",
    "\tcard_number: int\n",
    "\twinning_numbers: Set[int]\n",
    "\tpossessed_numbers: Set[int]\n",
    "\n",
    "\t@classmethod\n",
    "\tdef read(cls, text: str):\n",
    "\t\tdata = {}\n",
    "\t\tcard_number, numbers = text.split(\": \")\n",
    "\t\tdata['card_number'] = int(card_number.replace('Card ', ''))\n",
    "\t\twinning, possessed = numbers.split(\" | \")\n",
    "\t\tdata['winning_numbers'] = set(map(int, filter(bool, winning.split())))\n",
    "\t\tdata['possessed_numbers'] = set(map(int, filter(bool, possessed.split())))\n",
    "\t\treturn cls(**data)\n",
    "\t\n",
    "\t@property\n",
    "\tdef match_count(self):\n",
    "\t\treturn len(self.winning_numbers.intersection(self.possessed_numbers))\n",
    "\t\n",
    "\t@property\n",
    "\tdef score(self):\n",
    "\t\tif self.match_count == 0:\n",
    "\t\t\treturn 0\n",
    "\t\treturn int(2 ** (self.match_count-1))"
   ]
  },
  {
   "cell_type": "code",
   "execution_count": 34,
   "metadata": {},
   "outputs": [],
   "source": [
    "class CardList(BaseModel):\n",
    "\tcards: Dict[int, Card]\n",
    "\n",
    "\t@property\n",
    "\tdef sorted_cards(self):\n",
    "\t\treturn sorted(self.cards.values(), key=lambda card: card.card_number)\n",
    "\n",
    "\t@classmethod\n",
    "\tdef read(cls, text: str):\n",
    "\t\tcards = {}\n",
    "\t\tfor line in text.splitlines():\n",
    "\t\t\tif line:\n",
    "\t\t\t\tcard = Card.read(line)\n",
    "\t\t\t\tcards[card.card_number] = card\n",
    "\t\treturn cls(cards=cards)\n",
    "\t\n",
    "\t@property\n",
    "\tdef score(self):\n",
    "\t\treturn sum([card.score for card in self.sorted_cards])"
   ]
  },
  {
   "cell_type": "code",
   "execution_count": 26,
   "metadata": {},
   "outputs": [
    {
     "data": {
      "text/plain": [
       "13"
      ]
     },
     "execution_count": 26,
     "metadata": {},
     "output_type": "execute_result"
    }
   ],
   "source": [
    "CardList.read(SAMPLE_INPUT).score"
   ]
  },
  {
   "cell_type": "code",
   "execution_count": 27,
   "metadata": {},
   "outputs": [],
   "source": [
    "input_text = open('input.txt').read()"
   ]
  },
  {
   "cell_type": "code",
   "execution_count": 28,
   "metadata": {},
   "outputs": [
    {
     "data": {
      "text/plain": [
       "23673"
      ]
     },
     "execution_count": 28,
     "metadata": {},
     "output_type": "execute_result"
    }
   ],
   "source": [
    "CardList.read(input_text).score"
   ]
  },
  {
   "cell_type": "code",
   "execution_count": 46,
   "metadata": {},
   "outputs": [],
   "source": [
    "class NewCardList(CardList):\n",
    "\tcopy_counts: Dict[int, int] = {}\n",
    "\n",
    "\tdef model_post_init(self, __context):\n",
    "\t\tfor card in self.cards.values():\n",
    "\t\t\tself.copy_counts[card.card_number] = 1\n",
    "\n",
    "\tdef __add_to_card(self, card: Card, count: int):\n",
    "\t\tfor j in range(count):\n",
    "\t\t\tcopy_number = card.card_number+j+1\n",
    "\t\t\tif copy_number in self.cards:\n",
    "\t\t\t\tself.copy_counts[copy_number] += self.copy_counts[card.card_number]\n",
    "\n",
    "\t@property\n",
    "\tdef score(self):\n",
    "\t\tfor i, card in enumerate(self.sorted_cards):\n",
    "\t\t\tmatch_count = card.match_count\n",
    "\t\t\tself.__add_to_card(card, match_count)\n",
    "\t\treturn sum(self.copy_counts.values())"
   ]
  },
  {
   "cell_type": "code",
   "execution_count": 47,
   "metadata": {},
   "outputs": [
    {
     "data": {
      "text/plain": [
       "30"
      ]
     },
     "execution_count": 47,
     "metadata": {},
     "output_type": "execute_result"
    }
   ],
   "source": [
    "NewCardList.read(SAMPLE_INPUT).score"
   ]
  },
  {
   "cell_type": "code",
   "execution_count": 48,
   "metadata": {},
   "outputs": [
    {
     "data": {
      "text/plain": [
       "12263631"
      ]
     },
     "execution_count": 48,
     "metadata": {},
     "output_type": "execute_result"
    }
   ],
   "source": [
    "NewCardList.read(input_text).score"
   ]
  }
 ],
 "metadata": {
  "kernelspec": {
   "display_name": "x",
   "language": "python",
   "name": "python3"
  },
  "language_info": {
   "codemirror_mode": {
    "name": "ipython",
    "version": 3
   },
   "file_extension": ".py",
   "mimetype": "text/x-python",
   "name": "python",
   "nbconvert_exporter": "python",
   "pygments_lexer": "ipython3",
   "version": "3.11.4"
  }
 },
 "nbformat": 4,
 "nbformat_minor": 2
}
