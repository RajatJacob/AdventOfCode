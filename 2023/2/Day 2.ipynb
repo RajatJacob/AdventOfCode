{
 "cells": [
  {
   "cell_type": "code",
   "execution_count": 1,
   "metadata": {},
   "outputs": [],
   "source": [
    "SAMPLE_INPUT = \"\"\"\n",
    "Game 1: 3 blue, 4 red; 1 red, 2 green, 6 blue; 2 green\n",
    "Game 2: 1 blue, 2 green; 3 green, 4 blue, 1 red; 1 green, 1 blue\n",
    "Game 3: 8 green, 6 blue, 20 red; 5 blue, 4 red, 13 green; 5 green, 1 red\n",
    "Game 4: 1 green, 3 red, 6 blue; 3 green, 6 red; 3 green, 15 blue, 14 red\n",
    "Game 5: 6 red, 1 blue, 3 green; 2 blue, 1 red, 2 green\n",
    "\"\"\""
   ]
  },
  {
   "cell_type": "code",
   "execution_count": 2,
   "metadata": {},
   "outputs": [],
   "source": [
    "from typing import List\n",
    "from pydantic import BaseModel\n",
    "from rich import print"
   ]
  },
  {
   "cell_type": "code",
   "execution_count": 3,
   "metadata": {},
   "outputs": [],
   "source": [
    "class CubeSet(BaseModel):\n",
    "\tred: int = 0\n",
    "\tgreen: int = 0\n",
    "\tblue: int = 0\n",
    "\n",
    "\tdef power(self):\n",
    "\t\treturn self.red * self.green * self.blue\n",
    "\t\n",
    "\t@staticmethod\n",
    "\tdef read(text: str):\n",
    "\t\tfor cube_set_text in text.split('; '):\n",
    "\t\t\tcubes = cube_set_text.split(', ')\n",
    "\t\t\tcube_set = {}\n",
    "\t\t\tfor cube in cubes:\n",
    "\t\t\t\tcount, color = cube.split(' ')\n",
    "\t\t\t\tcube_set[color] = int(count)\n",
    "\t\t\tyield CubeSet(**cube_set)\n",
    "\n",
    "\n",
    "class Game(BaseModel):\n",
    "\tgame_id: int\n",
    "\tcube_sets: List[CubeSet]\n",
    "\n",
    "\t@staticmethod\n",
    "\tdef read(text: str):\n",
    "\t\tgame_id, cube_sets_text = text.split(': ')\n",
    "\t\tgame_number = int(game_id.replace('Game ', ''))\n",
    "\t\treturn Game(game_id=game_number, cube_sets=list(CubeSet.read(cube_sets_text)))\n",
    "\t\n",
    "\tdef is_possible(self, cube_set: CubeSet):\n",
    "\t\tfor game_cube_set in self.cube_sets:\n",
    "\t\t\tfor color in ['red', 'green', 'blue']:\n",
    "\t\t\t\tif getattr(game_cube_set, color) > getattr(cube_set, color):\n",
    "\t\t\t\t\treturn False\n",
    "\t\treturn True\n",
    "\t\n",
    "\tdef fewest_cubes_in_game(self):\n",
    "\t\tfewest = CubeSet()\n",
    "\t\tfor game_cube_set in self.cube_sets:\n",
    "\t\t\tfor color in ['red', 'green', 'blue']:\n",
    "\t\t\t\tif getattr(game_cube_set, color) > getattr(fewest, color):\n",
    "\t\t\t\t\tsetattr(fewest, color, getattr(game_cube_set, color))\n",
    "\t\treturn fewest\n",
    "\t\n",
    "\tdef power(self):\n",
    "\t\treturn self.fewest_cubes_in_game().power()\n",
    "\t\n",
    "class GameList(BaseModel):\n",
    "\tgames: List[Game]\n",
    "\n",
    "\t@staticmethod\n",
    "\tdef read(text: str):\n",
    "\t\treturn GameList(games=[Game.read(line) for line in text.splitlines() if line])\n",
    "\t\n",
    "\tdef get_possible_games(self, cube_set: CubeSet) -> List[Game]:\n",
    "\t\tpossible = [game for game in self.games if game.is_possible(cube_set)]\n",
    "\t\tprint(len(possible), '/', len(self.games), '|', (len(possible)*100/len(self.games)))\n",
    "\t\treturn possible\n",
    "\t\n",
    "\tdef score(self, cube_set: CubeSet):\n",
    "\t\treturn sum([game.game_id for game in self.get_possible_games(cube_set)])\n",
    "\t\n",
    "\tdef power(self):\n",
    "\t\treturn sum([game.power() for game in self.games])"
   ]
  },
  {
   "cell_type": "code",
   "execution_count": 4,
   "metadata": {},
   "outputs": [
    {
     "data": {
      "text/html": [
       "<pre style=\"white-space:pre;overflow-x:auto;line-height:normal;font-family:Menlo,'DejaVu Sans Mono',consolas,'Courier New',monospace\"><span style=\"color: #800080; text-decoration-color: #800080; font-weight: bold\">GameList</span><span style=\"font-weight: bold\">(</span>\n",
       "    <span style=\"color: #808000; text-decoration-color: #808000\">games</span>=<span style=\"font-weight: bold\">[</span>\n",
       "        <span style=\"color: #800080; text-decoration-color: #800080; font-weight: bold\">Game</span><span style=\"font-weight: bold\">(</span>\n",
       "            <span style=\"color: #808000; text-decoration-color: #808000\">game_id</span>=<span style=\"color: #008080; text-decoration-color: #008080; font-weight: bold\">1</span>,\n",
       "            <span style=\"color: #808000; text-decoration-color: #808000\">cube_sets</span>=<span style=\"font-weight: bold\">[</span>\n",
       "                <span style=\"color: #800080; text-decoration-color: #800080; font-weight: bold\">CubeSet</span><span style=\"font-weight: bold\">(</span><span style=\"color: #808000; text-decoration-color: #808000\">red</span>=<span style=\"color: #008080; text-decoration-color: #008080; font-weight: bold\">4</span>, <span style=\"color: #808000; text-decoration-color: #808000\">green</span>=<span style=\"color: #008080; text-decoration-color: #008080; font-weight: bold\">0</span>, <span style=\"color: #808000; text-decoration-color: #808000\">blue</span>=<span style=\"color: #008080; text-decoration-color: #008080; font-weight: bold\">3</span><span style=\"font-weight: bold\">)</span>,\n",
       "                <span style=\"color: #800080; text-decoration-color: #800080; font-weight: bold\">CubeSet</span><span style=\"font-weight: bold\">(</span><span style=\"color: #808000; text-decoration-color: #808000\">red</span>=<span style=\"color: #008080; text-decoration-color: #008080; font-weight: bold\">1</span>, <span style=\"color: #808000; text-decoration-color: #808000\">green</span>=<span style=\"color: #008080; text-decoration-color: #008080; font-weight: bold\">2</span>, <span style=\"color: #808000; text-decoration-color: #808000\">blue</span>=<span style=\"color: #008080; text-decoration-color: #008080; font-weight: bold\">6</span><span style=\"font-weight: bold\">)</span>,\n",
       "                <span style=\"color: #800080; text-decoration-color: #800080; font-weight: bold\">CubeSet</span><span style=\"font-weight: bold\">(</span><span style=\"color: #808000; text-decoration-color: #808000\">red</span>=<span style=\"color: #008080; text-decoration-color: #008080; font-weight: bold\">0</span>, <span style=\"color: #808000; text-decoration-color: #808000\">green</span>=<span style=\"color: #008080; text-decoration-color: #008080; font-weight: bold\">2</span>, <span style=\"color: #808000; text-decoration-color: #808000\">blue</span>=<span style=\"color: #008080; text-decoration-color: #008080; font-weight: bold\">0</span><span style=\"font-weight: bold\">)</span>\n",
       "            <span style=\"font-weight: bold\">]</span>\n",
       "        <span style=\"font-weight: bold\">)</span>,\n",
       "        <span style=\"color: #800080; text-decoration-color: #800080; font-weight: bold\">Game</span><span style=\"font-weight: bold\">(</span>\n",
       "            <span style=\"color: #808000; text-decoration-color: #808000\">game_id</span>=<span style=\"color: #008080; text-decoration-color: #008080; font-weight: bold\">2</span>,\n",
       "            <span style=\"color: #808000; text-decoration-color: #808000\">cube_sets</span>=<span style=\"font-weight: bold\">[</span>\n",
       "                <span style=\"color: #800080; text-decoration-color: #800080; font-weight: bold\">CubeSet</span><span style=\"font-weight: bold\">(</span><span style=\"color: #808000; text-decoration-color: #808000\">red</span>=<span style=\"color: #008080; text-decoration-color: #008080; font-weight: bold\">0</span>, <span style=\"color: #808000; text-decoration-color: #808000\">green</span>=<span style=\"color: #008080; text-decoration-color: #008080; font-weight: bold\">2</span>, <span style=\"color: #808000; text-decoration-color: #808000\">blue</span>=<span style=\"color: #008080; text-decoration-color: #008080; font-weight: bold\">1</span><span style=\"font-weight: bold\">)</span>,\n",
       "                <span style=\"color: #800080; text-decoration-color: #800080; font-weight: bold\">CubeSet</span><span style=\"font-weight: bold\">(</span><span style=\"color: #808000; text-decoration-color: #808000\">red</span>=<span style=\"color: #008080; text-decoration-color: #008080; font-weight: bold\">1</span>, <span style=\"color: #808000; text-decoration-color: #808000\">green</span>=<span style=\"color: #008080; text-decoration-color: #008080; font-weight: bold\">3</span>, <span style=\"color: #808000; text-decoration-color: #808000\">blue</span>=<span style=\"color: #008080; text-decoration-color: #008080; font-weight: bold\">4</span><span style=\"font-weight: bold\">)</span>,\n",
       "                <span style=\"color: #800080; text-decoration-color: #800080; font-weight: bold\">CubeSet</span><span style=\"font-weight: bold\">(</span><span style=\"color: #808000; text-decoration-color: #808000\">red</span>=<span style=\"color: #008080; text-decoration-color: #008080; font-weight: bold\">0</span>, <span style=\"color: #808000; text-decoration-color: #808000\">green</span>=<span style=\"color: #008080; text-decoration-color: #008080; font-weight: bold\">1</span>, <span style=\"color: #808000; text-decoration-color: #808000\">blue</span>=<span style=\"color: #008080; text-decoration-color: #008080; font-weight: bold\">1</span><span style=\"font-weight: bold\">)</span>\n",
       "            <span style=\"font-weight: bold\">]</span>\n",
       "        <span style=\"font-weight: bold\">)</span>,\n",
       "        <span style=\"color: #800080; text-decoration-color: #800080; font-weight: bold\">Game</span><span style=\"font-weight: bold\">(</span>\n",
       "            <span style=\"color: #808000; text-decoration-color: #808000\">game_id</span>=<span style=\"color: #008080; text-decoration-color: #008080; font-weight: bold\">3</span>,\n",
       "            <span style=\"color: #808000; text-decoration-color: #808000\">cube_sets</span>=<span style=\"font-weight: bold\">[</span>\n",
       "                <span style=\"color: #800080; text-decoration-color: #800080; font-weight: bold\">CubeSet</span><span style=\"font-weight: bold\">(</span><span style=\"color: #808000; text-decoration-color: #808000\">red</span>=<span style=\"color: #008080; text-decoration-color: #008080; font-weight: bold\">20</span>, <span style=\"color: #808000; text-decoration-color: #808000\">green</span>=<span style=\"color: #008080; text-decoration-color: #008080; font-weight: bold\">8</span>, <span style=\"color: #808000; text-decoration-color: #808000\">blue</span>=<span style=\"color: #008080; text-decoration-color: #008080; font-weight: bold\">6</span><span style=\"font-weight: bold\">)</span>,\n",
       "                <span style=\"color: #800080; text-decoration-color: #800080; font-weight: bold\">CubeSet</span><span style=\"font-weight: bold\">(</span><span style=\"color: #808000; text-decoration-color: #808000\">red</span>=<span style=\"color: #008080; text-decoration-color: #008080; font-weight: bold\">4</span>, <span style=\"color: #808000; text-decoration-color: #808000\">green</span>=<span style=\"color: #008080; text-decoration-color: #008080; font-weight: bold\">13</span>, <span style=\"color: #808000; text-decoration-color: #808000\">blue</span>=<span style=\"color: #008080; text-decoration-color: #008080; font-weight: bold\">5</span><span style=\"font-weight: bold\">)</span>,\n",
       "                <span style=\"color: #800080; text-decoration-color: #800080; font-weight: bold\">CubeSet</span><span style=\"font-weight: bold\">(</span><span style=\"color: #808000; text-decoration-color: #808000\">red</span>=<span style=\"color: #008080; text-decoration-color: #008080; font-weight: bold\">1</span>, <span style=\"color: #808000; text-decoration-color: #808000\">green</span>=<span style=\"color: #008080; text-decoration-color: #008080; font-weight: bold\">5</span>, <span style=\"color: #808000; text-decoration-color: #808000\">blue</span>=<span style=\"color: #008080; text-decoration-color: #008080; font-weight: bold\">0</span><span style=\"font-weight: bold\">)</span>\n",
       "            <span style=\"font-weight: bold\">]</span>\n",
       "        <span style=\"font-weight: bold\">)</span>,\n",
       "        <span style=\"color: #800080; text-decoration-color: #800080; font-weight: bold\">Game</span><span style=\"font-weight: bold\">(</span>\n",
       "            <span style=\"color: #808000; text-decoration-color: #808000\">game_id</span>=<span style=\"color: #008080; text-decoration-color: #008080; font-weight: bold\">4</span>,\n",
       "            <span style=\"color: #808000; text-decoration-color: #808000\">cube_sets</span>=<span style=\"font-weight: bold\">[</span>\n",
       "                <span style=\"color: #800080; text-decoration-color: #800080; font-weight: bold\">CubeSet</span><span style=\"font-weight: bold\">(</span><span style=\"color: #808000; text-decoration-color: #808000\">red</span>=<span style=\"color: #008080; text-decoration-color: #008080; font-weight: bold\">3</span>, <span style=\"color: #808000; text-decoration-color: #808000\">green</span>=<span style=\"color: #008080; text-decoration-color: #008080; font-weight: bold\">1</span>, <span style=\"color: #808000; text-decoration-color: #808000\">blue</span>=<span style=\"color: #008080; text-decoration-color: #008080; font-weight: bold\">6</span><span style=\"font-weight: bold\">)</span>,\n",
       "                <span style=\"color: #800080; text-decoration-color: #800080; font-weight: bold\">CubeSet</span><span style=\"font-weight: bold\">(</span><span style=\"color: #808000; text-decoration-color: #808000\">red</span>=<span style=\"color: #008080; text-decoration-color: #008080; font-weight: bold\">6</span>, <span style=\"color: #808000; text-decoration-color: #808000\">green</span>=<span style=\"color: #008080; text-decoration-color: #008080; font-weight: bold\">3</span>, <span style=\"color: #808000; text-decoration-color: #808000\">blue</span>=<span style=\"color: #008080; text-decoration-color: #008080; font-weight: bold\">0</span><span style=\"font-weight: bold\">)</span>,\n",
       "                <span style=\"color: #800080; text-decoration-color: #800080; font-weight: bold\">CubeSet</span><span style=\"font-weight: bold\">(</span><span style=\"color: #808000; text-decoration-color: #808000\">red</span>=<span style=\"color: #008080; text-decoration-color: #008080; font-weight: bold\">14</span>, <span style=\"color: #808000; text-decoration-color: #808000\">green</span>=<span style=\"color: #008080; text-decoration-color: #008080; font-weight: bold\">3</span>, <span style=\"color: #808000; text-decoration-color: #808000\">blue</span>=<span style=\"color: #008080; text-decoration-color: #008080; font-weight: bold\">15</span><span style=\"font-weight: bold\">)</span>\n",
       "            <span style=\"font-weight: bold\">]</span>\n",
       "        <span style=\"font-weight: bold\">)</span>,\n",
       "        <span style=\"color: #800080; text-decoration-color: #800080; font-weight: bold\">Game</span><span style=\"font-weight: bold\">(</span><span style=\"color: #808000; text-decoration-color: #808000\">game_id</span>=<span style=\"color: #008080; text-decoration-color: #008080; font-weight: bold\">5</span>, <span style=\"color: #808000; text-decoration-color: #808000\">cube_sets</span>=<span style=\"font-weight: bold\">[</span><span style=\"color: #800080; text-decoration-color: #800080; font-weight: bold\">CubeSet</span><span style=\"font-weight: bold\">(</span><span style=\"color: #808000; text-decoration-color: #808000\">red</span>=<span style=\"color: #008080; text-decoration-color: #008080; font-weight: bold\">6</span>, <span style=\"color: #808000; text-decoration-color: #808000\">green</span>=<span style=\"color: #008080; text-decoration-color: #008080; font-weight: bold\">3</span>, <span style=\"color: #808000; text-decoration-color: #808000\">blue</span>=<span style=\"color: #008080; text-decoration-color: #008080; font-weight: bold\">1</span><span style=\"font-weight: bold\">)</span>, <span style=\"color: #800080; text-decoration-color: #800080; font-weight: bold\">CubeSet</span><span style=\"font-weight: bold\">(</span><span style=\"color: #808000; text-decoration-color: #808000\">red</span>=<span style=\"color: #008080; text-decoration-color: #008080; font-weight: bold\">1</span>, <span style=\"color: #808000; text-decoration-color: #808000\">green</span>=<span style=\"color: #008080; text-decoration-color: #008080; font-weight: bold\">2</span>, <span style=\"color: #808000; text-decoration-color: #808000\">blue</span>=<span style=\"color: #008080; text-decoration-color: #008080; font-weight: bold\">2</span><span style=\"font-weight: bold\">)])</span>\n",
       "    <span style=\"font-weight: bold\">]</span>\n",
       "<span style=\"font-weight: bold\">)</span>\n",
       "</pre>\n"
      ],
      "text/plain": [
       "\u001b[1;35mGameList\u001b[0m\u001b[1m(\u001b[0m\n",
       "    \u001b[33mgames\u001b[0m=\u001b[1m[\u001b[0m\n",
       "        \u001b[1;35mGame\u001b[0m\u001b[1m(\u001b[0m\n",
       "            \u001b[33mgame_id\u001b[0m=\u001b[1;36m1\u001b[0m,\n",
       "            \u001b[33mcube_sets\u001b[0m=\u001b[1m[\u001b[0m\n",
       "                \u001b[1;35mCubeSet\u001b[0m\u001b[1m(\u001b[0m\u001b[33mred\u001b[0m=\u001b[1;36m4\u001b[0m, \u001b[33mgreen\u001b[0m=\u001b[1;36m0\u001b[0m, \u001b[33mblue\u001b[0m=\u001b[1;36m3\u001b[0m\u001b[1m)\u001b[0m,\n",
       "                \u001b[1;35mCubeSet\u001b[0m\u001b[1m(\u001b[0m\u001b[33mred\u001b[0m=\u001b[1;36m1\u001b[0m, \u001b[33mgreen\u001b[0m=\u001b[1;36m2\u001b[0m, \u001b[33mblue\u001b[0m=\u001b[1;36m6\u001b[0m\u001b[1m)\u001b[0m,\n",
       "                \u001b[1;35mCubeSet\u001b[0m\u001b[1m(\u001b[0m\u001b[33mred\u001b[0m=\u001b[1;36m0\u001b[0m, \u001b[33mgreen\u001b[0m=\u001b[1;36m2\u001b[0m, \u001b[33mblue\u001b[0m=\u001b[1;36m0\u001b[0m\u001b[1m)\u001b[0m\n",
       "            \u001b[1m]\u001b[0m\n",
       "        \u001b[1m)\u001b[0m,\n",
       "        \u001b[1;35mGame\u001b[0m\u001b[1m(\u001b[0m\n",
       "            \u001b[33mgame_id\u001b[0m=\u001b[1;36m2\u001b[0m,\n",
       "            \u001b[33mcube_sets\u001b[0m=\u001b[1m[\u001b[0m\n",
       "                \u001b[1;35mCubeSet\u001b[0m\u001b[1m(\u001b[0m\u001b[33mred\u001b[0m=\u001b[1;36m0\u001b[0m, \u001b[33mgreen\u001b[0m=\u001b[1;36m2\u001b[0m, \u001b[33mblue\u001b[0m=\u001b[1;36m1\u001b[0m\u001b[1m)\u001b[0m,\n",
       "                \u001b[1;35mCubeSet\u001b[0m\u001b[1m(\u001b[0m\u001b[33mred\u001b[0m=\u001b[1;36m1\u001b[0m, \u001b[33mgreen\u001b[0m=\u001b[1;36m3\u001b[0m, \u001b[33mblue\u001b[0m=\u001b[1;36m4\u001b[0m\u001b[1m)\u001b[0m,\n",
       "                \u001b[1;35mCubeSet\u001b[0m\u001b[1m(\u001b[0m\u001b[33mred\u001b[0m=\u001b[1;36m0\u001b[0m, \u001b[33mgreen\u001b[0m=\u001b[1;36m1\u001b[0m, \u001b[33mblue\u001b[0m=\u001b[1;36m1\u001b[0m\u001b[1m)\u001b[0m\n",
       "            \u001b[1m]\u001b[0m\n",
       "        \u001b[1m)\u001b[0m,\n",
       "        \u001b[1;35mGame\u001b[0m\u001b[1m(\u001b[0m\n",
       "            \u001b[33mgame_id\u001b[0m=\u001b[1;36m3\u001b[0m,\n",
       "            \u001b[33mcube_sets\u001b[0m=\u001b[1m[\u001b[0m\n",
       "                \u001b[1;35mCubeSet\u001b[0m\u001b[1m(\u001b[0m\u001b[33mred\u001b[0m=\u001b[1;36m20\u001b[0m, \u001b[33mgreen\u001b[0m=\u001b[1;36m8\u001b[0m, \u001b[33mblue\u001b[0m=\u001b[1;36m6\u001b[0m\u001b[1m)\u001b[0m,\n",
       "                \u001b[1;35mCubeSet\u001b[0m\u001b[1m(\u001b[0m\u001b[33mred\u001b[0m=\u001b[1;36m4\u001b[0m, \u001b[33mgreen\u001b[0m=\u001b[1;36m13\u001b[0m, \u001b[33mblue\u001b[0m=\u001b[1;36m5\u001b[0m\u001b[1m)\u001b[0m,\n",
       "                \u001b[1;35mCubeSet\u001b[0m\u001b[1m(\u001b[0m\u001b[33mred\u001b[0m=\u001b[1;36m1\u001b[0m, \u001b[33mgreen\u001b[0m=\u001b[1;36m5\u001b[0m, \u001b[33mblue\u001b[0m=\u001b[1;36m0\u001b[0m\u001b[1m)\u001b[0m\n",
       "            \u001b[1m]\u001b[0m\n",
       "        \u001b[1m)\u001b[0m,\n",
       "        \u001b[1;35mGame\u001b[0m\u001b[1m(\u001b[0m\n",
       "            \u001b[33mgame_id\u001b[0m=\u001b[1;36m4\u001b[0m,\n",
       "            \u001b[33mcube_sets\u001b[0m=\u001b[1m[\u001b[0m\n",
       "                \u001b[1;35mCubeSet\u001b[0m\u001b[1m(\u001b[0m\u001b[33mred\u001b[0m=\u001b[1;36m3\u001b[0m, \u001b[33mgreen\u001b[0m=\u001b[1;36m1\u001b[0m, \u001b[33mblue\u001b[0m=\u001b[1;36m6\u001b[0m\u001b[1m)\u001b[0m,\n",
       "                \u001b[1;35mCubeSet\u001b[0m\u001b[1m(\u001b[0m\u001b[33mred\u001b[0m=\u001b[1;36m6\u001b[0m, \u001b[33mgreen\u001b[0m=\u001b[1;36m3\u001b[0m, \u001b[33mblue\u001b[0m=\u001b[1;36m0\u001b[0m\u001b[1m)\u001b[0m,\n",
       "                \u001b[1;35mCubeSet\u001b[0m\u001b[1m(\u001b[0m\u001b[33mred\u001b[0m=\u001b[1;36m14\u001b[0m, \u001b[33mgreen\u001b[0m=\u001b[1;36m3\u001b[0m, \u001b[33mblue\u001b[0m=\u001b[1;36m15\u001b[0m\u001b[1m)\u001b[0m\n",
       "            \u001b[1m]\u001b[0m\n",
       "        \u001b[1m)\u001b[0m,\n",
       "        \u001b[1;35mGame\u001b[0m\u001b[1m(\u001b[0m\u001b[33mgame_id\u001b[0m=\u001b[1;36m5\u001b[0m, \u001b[33mcube_sets\u001b[0m=\u001b[1m[\u001b[0m\u001b[1;35mCubeSet\u001b[0m\u001b[1m(\u001b[0m\u001b[33mred\u001b[0m=\u001b[1;36m6\u001b[0m, \u001b[33mgreen\u001b[0m=\u001b[1;36m3\u001b[0m, \u001b[33mblue\u001b[0m=\u001b[1;36m1\u001b[0m\u001b[1m)\u001b[0m, \u001b[1;35mCubeSet\u001b[0m\u001b[1m(\u001b[0m\u001b[33mred\u001b[0m=\u001b[1;36m1\u001b[0m, \u001b[33mgreen\u001b[0m=\u001b[1;36m2\u001b[0m, \u001b[33mblue\u001b[0m=\u001b[1;36m2\u001b[0m\u001b[1m)\u001b[0m\u001b[1m]\u001b[0m\u001b[1m)\u001b[0m\n",
       "    \u001b[1m]\u001b[0m\n",
       "\u001b[1m)\u001b[0m\n"
      ]
     },
     "metadata": {},
     "output_type": "display_data"
    }
   ],
   "source": [
    "print(GameList.read(SAMPLE_INPUT))"
   ]
  },
  {
   "cell_type": "code",
   "execution_count": 5,
   "metadata": {},
   "outputs": [
    {
     "data": {
      "text/html": [
       "<pre style=\"white-space:pre;overflow-x:auto;line-height:normal;font-family:Menlo,'DejaVu Sans Mono',consolas,'Courier New',monospace\"><span style=\"color: #008080; text-decoration-color: #008080; font-weight: bold\">3</span> <span style=\"color: #800080; text-decoration-color: #800080\">/</span> <span style=\"color: #008080; text-decoration-color: #008080; font-weight: bold\">5</span> | <span style=\"color: #008080; text-decoration-color: #008080; font-weight: bold\">60.0</span>\n",
       "</pre>\n"
      ],
      "text/plain": [
       "\u001b[1;36m3\u001b[0m \u001b[35m/\u001b[0m \u001b[1;36m5\u001b[0m | \u001b[1;36m60.0\u001b[0m\n"
      ]
     },
     "metadata": {},
     "output_type": "display_data"
    },
    {
     "data": {
      "text/plain": [
       "8"
      ]
     },
     "execution_count": 5,
     "metadata": {},
     "output_type": "execute_result"
    }
   ],
   "source": [
    "GameList.read(SAMPLE_INPUT).score(CubeSet(red=12, green=13, blue= 14))"
   ]
  },
  {
   "cell_type": "code",
   "execution_count": 8,
   "metadata": {},
   "outputs": [],
   "source": [
    "input_text = open('input.txt').read()"
   ]
  },
  {
   "cell_type": "code",
   "execution_count": 9,
   "metadata": {},
   "outputs": [
    {
     "data": {
      "text/html": [
       "<pre style=\"white-space:pre;overflow-x:auto;line-height:normal;font-family:Menlo,'DejaVu Sans Mono',consolas,'Courier New',monospace\"><span style=\"color: #008080; text-decoration-color: #008080; font-weight: bold\">49</span> <span style=\"color: #800080; text-decoration-color: #800080\">/</span> <span style=\"color: #008080; text-decoration-color: #008080; font-weight: bold\">100</span> | <span style=\"color: #008080; text-decoration-color: #008080; font-weight: bold\">49.0</span>\n",
       "</pre>\n"
      ],
      "text/plain": [
       "\u001b[1;36m49\u001b[0m \u001b[35m/\u001b[0m \u001b[1;36m100\u001b[0m | \u001b[1;36m49.0\u001b[0m\n"
      ]
     },
     "metadata": {},
     "output_type": "display_data"
    },
    {
     "data": {
      "text/plain": [
       "2545"
      ]
     },
     "execution_count": 9,
     "metadata": {},
     "output_type": "execute_result"
    }
   ],
   "source": [
    "GameList.read(input_text).score(CubeSet(red=12, green=13, blue= 14))"
   ]
  },
  {
   "cell_type": "code",
   "execution_count": 10,
   "metadata": {},
   "outputs": [
    {
     "data": {
      "text/plain": [
       "2286"
      ]
     },
     "execution_count": 10,
     "metadata": {},
     "output_type": "execute_result"
    }
   ],
   "source": [
    "GameList.read(SAMPLE_INPUT).power()"
   ]
  },
  {
   "cell_type": "code",
   "execution_count": 11,
   "metadata": {},
   "outputs": [
    {
     "data": {
      "text/plain": [
       "78111"
      ]
     },
     "execution_count": 11,
     "metadata": {},
     "output_type": "execute_result"
    }
   ],
   "source": [
    "GameList.read(input_text).power()"
   ]
  }
 ],
 "metadata": {
  "kernelspec": {
   "display_name": "x",
   "language": "python",
   "name": "python3"
  },
  "language_info": {
   "codemirror_mode": {
    "name": "ipython",
    "version": 3
   },
   "file_extension": ".py",
   "mimetype": "text/x-python",
   "name": "python",
   "nbconvert_exporter": "python",
   "pygments_lexer": "ipython3",
   "version": "3.11.4"
  }
 },
 "nbformat": 4,
 "nbformat_minor": 2
}
