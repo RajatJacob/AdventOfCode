{
 "cells": [
  {
   "cell_type": "code",
   "execution_count": 1,
   "metadata": {},
   "outputs": [],
   "source": [
    "def get_calibration_value(text: str):\n",
    "\tdigits = [char for char in text if char.isdigit()]\n",
    "\treturn int(''.join([digits[0], digits[-1]]))"
   ]
  },
  {
   "cell_type": "code",
   "execution_count": 2,
   "metadata": {},
   "outputs": [],
   "source": [
    "for text, calibration in {\n",
    "\t'1abc2': 12,\n",
    "\t'pqr3stu8vwx': 38,\n",
    "\t'a1b2c3d4e5f': 15,\n",
    "\t'treb7uchet': 77\n",
    "}.items():\n",
    "\tassert get_calibration_value(text) == calibration"
   ]
  },
  {
   "cell_type": "code",
   "execution_count": 4,
   "metadata": {},
   "outputs": [
    {
     "data": {
      "text/plain": [
       "56108"
      ]
     },
     "execution_count": 4,
     "metadata": {},
     "output_type": "execute_result"
    }
   ],
   "source": [
    "result = 0\n",
    "with open('input.txt') as f:\n",
    "\tresult = sum(map(get_calibration_value, filter(bool, f)))\n",
    "\n",
    "result"
   ]
  },
  {
   "cell_type": "code",
   "execution_count": 5,
   "metadata": {},
   "outputs": [],
   "source": [
    "def get_calibration_value(text: str):\n",
    "\tDIGITS = ['zero', 'one', 'two', 'three', 'four', 'five', 'six', 'seven', 'eight', 'nine']\n",
    "\tdigits = []\n",
    "\tfor i in range(len(text)):\n",
    "\t\tif text[i].isdigit():\n",
    "\t\t\tdigits.append(text[i])\n",
    "\t\telse:\n",
    "\t\t\tfor digit, digit_text in enumerate(DIGITS):\n",
    "\t\t\t\tif text[i:].startswith(digit_text):\n",
    "\t\t\t\t\tdigits.append(digit)\n",
    "\t\t\t\t\tbreak\n",
    "\treturn int(f'{digits[0]}{digits[-1]}')"
   ]
  },
  {
   "cell_type": "code",
   "execution_count": 6,
   "metadata": {},
   "outputs": [],
   "source": [
    "for text, calibration in {\n",
    "\t'1abc2': 12,\n",
    "\t'pqr3stu8vwx': 38,\n",
    "\t'a1b2c3d4e5f': 15,\n",
    "\t'treb7uchet': 77,\n",
    "\t'two1nine': 29,\n",
    "\t'eightwothree': 83,\n",
    "\t'abcone2threexyz': 13,\n",
    "\t'xtwone3four': 24,\n",
    "\t'4nineeightseven2': 42,\n",
    "\t'zoneight234': 14,\n",
    "\t'7pqrstsixteen': 76,\n",
    "}.items():\n",
    "\tassert get_calibration_value(text) == calibration"
   ]
  },
  {
   "cell_type": "code",
   "execution_count": 7,
   "metadata": {},
   "outputs": [
    {
     "data": {
      "text/plain": [
       "55652"
      ]
     },
     "execution_count": 7,
     "metadata": {},
     "output_type": "execute_result"
    }
   ],
   "source": [
    "result = 0\n",
    "with open('input.txt') as f:\n",
    "\tresult = sum(map(get_calibration_value, filter(bool, f)))\n",
    "\n",
    "result"
   ]
  }
 ],
 "metadata": {
  "kernelspec": {
   "display_name": "x",
   "language": "python",
   "name": "python3"
  },
  "language_info": {
   "codemirror_mode": {
    "name": "ipython",
    "version": 3
   },
   "file_extension": ".py",
   "mimetype": "text/x-python",
   "name": "python",
   "nbconvert_exporter": "python",
   "pygments_lexer": "ipython3",
   "version": "3.11.4"
  }
 },
 "nbformat": 4,
 "nbformat_minor": 2
}
